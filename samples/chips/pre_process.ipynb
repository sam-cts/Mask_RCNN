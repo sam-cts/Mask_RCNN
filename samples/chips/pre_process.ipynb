{
 "nbformat": 4,
 "nbformat_minor": 2,
 "metadata": {
  "language_info": {
   "name": "python",
   "codemirror_mode": {
    "name": "ipython",
    "version": 3
   },
   "version": "3.6.9-final"
  },
  "orig_nbformat": 2,
  "file_extension": ".py",
  "mimetype": "text/x-python",
  "name": "python",
  "npconvert_exporter": "python",
  "pygments_lexer": "ipython3",
  "version": 3,
  "kernelspec": {
   "name": "python3",
   "display_name": "Python 3"
  }
 },
 "cells": [
  {
   "cell_type": "code",
   "execution_count": 1,
   "metadata": {},
   "outputs": [],
   "source": [
    "import os, sys\n",
    "import json\n",
    ""
   ]
  },
  {
   "cell_type": "code",
   "execution_count": 2,
   "metadata": {},
   "outputs": [],
   "source": [
    "def openJsonFile(path):\n",
    "    with open(path, 'r') as inFile:\n",
    "        return json.load(inFile)"
   ]
  },
  {
   "cell_type": "code",
   "execution_count": 3,
   "metadata": {},
   "outputs": [],
   "source": [
    "dataDir = \"/datasets/idNerd/preprocess/\"\n",
    "pyInputPath = os.path.join(dataDir, \"pythonInputs.json\")\n",
    "goInputPath = os.path.join(dataDir, \"goInputs.json\")\n",
    "pyInput = openJsonFile(pyInputPath)\n",
    "goInput = openJsonFile(goInputPath)\n",
    "\n",
    "pyMeta = pyInput['data']['metas']\n",
    "goMeta = goInput['metas']"
   ]
  },
  {
   "cell_type": "code",
   "execution_count": 4,
   "metadata": {},
   "outputs": [
    {
     "output_type": "stream",
     "name": "stdout",
     "text": "[[0.0, 3104.0, 4192.0, 3.0, 1024.0, 1024.0, 3.0, 133.0, 0.0, 891.0, 1024.0, 0.24427480916030533, 0.0, 0.0, 0.0]]\n[[0, 3104, 4192, 3, 1024, 1024, 3, 133, 0, 891, 1024, 0.24427481, 0, 1, 2]]\n"
    }
   ],
   "source": [
    "pyMeta = pyInput['data']['metas']\n",
    "goMeta = goInput['metas']\n",
    "\n",
    "print(pyMeta)\n",
    "print(goMeta)"
   ]
  },
  {
   "cell_type": "code",
   "execution_count": 5,
   "metadata": {},
   "outputs": [],
   "source": [
    "import numpy as np\n",
    "pyAnchors = np.array(pyInput['data']['anchors'])\n",
    "goAnchors = np.array(goInput['anchors'])"
   ]
  },
  {
   "cell_type": "code",
   "execution_count": 6,
   "metadata": {},
   "outputs": [
    {
     "output_type": "execute_result",
     "data": {
      "text/plain": "(1, 261888, 4)"
     },
     "metadata": {},
     "execution_count": 6
    }
   ],
   "source": [
    "pyAnchors.shape"
   ]
  },
  {
   "cell_type": "code",
   "execution_count": 7,
   "metadata": {},
   "outputs": [
    {
     "output_type": "execute_result",
     "data": {
      "text/plain": "(1, 261888, 4)"
     },
     "metadata": {},
     "execution_count": 7
    }
   ],
   "source": [
    "goAnchors.shape"
   ]
  },
  {
   "cell_type": "code",
   "execution_count": 8,
   "metadata": {},
   "outputs": [],
   "source": [
    "diffAnchors = pyAnchors - goAnchors"
   ]
  },
  {
   "cell_type": "code",
   "execution_count": 9,
   "metadata": {},
   "outputs": [
    {
     "output_type": "execute_result",
     "data": {
      "text/plain": "-0.00013762161540853413"
     },
     "metadata": {},
     "execution_count": 9
    }
   ],
   "source": [
    "diffAnchors.sum()"
   ]
  },
  {
   "cell_type": "code",
   "execution_count": 11,
   "metadata": {},
   "outputs": [
    {
     "output_type": "execute_result",
     "data": {
      "text/plain": "(8380416, 32, 8)"
     },
     "metadata": {},
     "execution_count": 11
    }
   ],
   "source": [
    "pyAnchors.strides"
   ]
  },
  {
   "cell_type": "code",
   "execution_count": 12,
   "metadata": {},
   "outputs": [
    {
     "output_type": "execute_result",
     "data": {
      "text/plain": "(8380416, 32, 8)"
     },
     "metadata": {},
     "execution_count": 12
    }
   ],
   "source": [
    "goAnchors.strides"
   ]
  },
  {
   "cell_type": "code",
   "execution_count": 13,
   "metadata": {},
   "outputs": [
    {
     "output_type": "execute_result",
     "data": {
      "text/plain": "(array([0, 0, 0, 0, 0, 0, 0, 0, 0, 0]),\n array([261152, 261200, 261248, 261296, 261344, 261633, 261636, 261639,\n        261642, 261645]),\n array([3, 3, 3, 3, 3, 2, 2, 2, 2, 2]))"
     },
     "metadata": {},
     "execution_count": 13
    }
   ],
   "source": [
    "np.where(diffAnchors == diffAnchors.max())"
   ]
  },
  {
   "cell_type": "code",
   "execution_count": 21,
   "metadata": {},
   "outputs": [
    {
     "output_type": "stream",
     "name": "stdout",
     "text": "[-0.02211869 -0.00714928  0.02114117  0.0139919 ]\n[-0.01564027 -0.01564027  0.01466276  0.01466276]\n"
    }
   ],
   "source": [
    "i = 1\n",
    "print(goAnchors[0, i, :])\n",
    "print(pyAnchors[0, i, :])"
   ]
  },
  {
   "cell_type": "code",
   "execution_count": 59,
   "metadata": {},
   "outputs": [],
   "source": [
    "pyImg = np.array(pyInput['data']['image'])\n",
    "goImg = np.array(goInput['image'])"
   ]
  },
  {
   "cell_type": "code",
   "execution_count": 60,
   "metadata": {},
   "outputs": [
    {
     "output_type": "execute_result",
     "data": {
      "text/plain": "(1, 1024, 1024, 3)"
     },
     "metadata": {},
     "execution_count": 60
    }
   ],
   "source": [
    "pyImg.shape"
   ]
  },
  {
   "cell_type": "code",
   "execution_count": 61,
   "metadata": {},
   "outputs": [
    {
     "output_type": "execute_result",
     "data": {
      "text/plain": "(1, 1024, 1024, 3)"
     },
     "metadata": {},
     "execution_count": 61
    }
   ],
   "source": [
    "goImg.shape"
   ]
  },
  {
   "cell_type": "code",
   "execution_count": 62,
   "metadata": {},
   "outputs": [
    {
     "output_type": "execute_result",
     "data": {
      "text/plain": "-1134910.9771387859"
     },
     "metadata": {},
     "execution_count": 62
    }
   ],
   "source": [
    "diffImg = pyImg - goImg\n",
    "diffImg.sum()"
   ]
  },
  {
   "cell_type": "code",
   "execution_count": 63,
   "metadata": {},
   "outputs": [
    {
     "output_type": "execute_result",
     "data": {
      "text/plain": "-384901.03484579787"
     },
     "metadata": {},
     "execution_count": 63
    }
   ],
   "source": [
    "pyR = pyImg[0, 133:891, :, 0]\n",
    "goR = goImg[0, 133:891, :, 0]\n",
    "diffR = pyR - goR\n",
    "diffR.sum()"
   ]
  },
  {
   "cell_type": "code",
   "execution_count": 64,
   "metadata": {},
   "outputs": [],
   "source": [
    "import pandas as pd\n",
    "dfpyR = pd.DataFrame(pyR)\n",
    "dfgoR = pd.DataFrame(goR)\n",
    ""
   ]
  },
  {
   "cell_type": "code",
   "execution_count": 65,
   "metadata": {},
   "outputs": [
    {
     "output_type": "stream",
     "name": "stdout",
     "text": "0     1     2     3      4     5     6     7      8     9     ...  1014  \\\n0 -69.7 -65.7 -78.7 -52.7  -46.7 -58.7 -80.7 -71.7  -81.7 -61.7  ...  79.3   \n1 -70.7 -65.7 -94.7 -48.7  -70.7 -59.7 -70.7 -76.7  -77.7 -73.7  ...  87.3   \n2 -64.7 -59.7 -55.7 -60.7 -106.7 -65.7 -61.7 -64.7 -103.7 -84.7  ...  74.3   \n3 -59.7 -86.7 -96.7 -70.7  -83.7 -63.7 -70.7 -83.7  -71.7 -76.7  ...  90.3   \n4 -59.7 -47.7 -87.7 -80.7  -76.7 -73.7 -59.7 -66.7  -66.7 -56.7  ...  79.3   \n\n   1015  1016  1017  1018  1019  1020   1021  1022  1023  \n0  76.3  86.3  90.3  90.3  79.3  85.3   81.3  19.3 -22.7  \n1  81.3  82.3  74.3  59.3  83.3  91.3   82.3  29.3 -40.7  \n2  74.3  72.3  76.3  80.3  76.3  76.3   70.3  18.3 -20.7  \n3  81.3  91.3  88.3  85.3  72.3  93.3  103.3  -0.7 -39.7  \n4  79.3  88.3  81.3  78.3  76.3  94.3   67.3 -20.7 -47.7  \n\n[5 rows x 1024 columns]\n        0         1          2          3           4          5     \\\n0 -68.025925 -64.11040 -76.904340 -51.700485  -47.704147 -58.262497   \n1 -68.519090 -65.85112 -89.515915 -48.923140  -70.125046 -59.508102   \n2 -66.367230 -59.21733 -57.081590 -59.078660 -103.293750 -65.664600   \n3 -59.981003 -87.14946 -96.090380 -72.356250  -84.304980 -64.999560   \n4 -57.760300 -48.75029 -87.934616 -79.434370  -76.387500 -72.703660   \n\n        6          7          8          9     ...       1014      1015  \\\n0 -79.476850 -72.090866  -81.21489 -63.507614  ...  80.883255  76.45625   \n1 -70.720750 -74.241010  -79.86699 -73.137985  ...  87.410110  81.33125   \n2 -61.441208 -66.540820 -100.63530 -83.506880  ...  75.253130  75.12959   \n3 -70.322070 -82.214645  -70.27080 -76.171680  ...  89.431350  80.65938   \n4 -61.636032 -69.731250  -66.49785 -56.248337  ...  79.863235  80.05757   \n\n        1016      1017      1018       1019       1020        1021       1022  \\\n0  86.944046  90.33394  89.61397  80.319780  85.533646   82.351520  19.823929   \n1  81.481890  76.52730  62.42061  83.093704  90.660840   84.230420  26.244827   \n2  73.643750  75.92061  79.50728  78.091260  78.774860   69.161820  19.542679   \n3  91.791700  88.96553  85.99776  72.933790  94.895460  103.494580  -2.459030   \n4  85.518510  79.92500  77.45625  76.293900  94.978470   65.748245 -19.911911   \n\n        1023  \n0 -21.351852  \n1 -35.373580  \n2 -24.351120  \n3 -37.948776  \n4 -46.187546  \n\n[5 rows x 1024 columns]\n"
    }
   ],
   "source": [
    "print(dfpyR.head())\n",
    "print(dfgoR.head())\n",
    ""
   ]
  },
  {
   "cell_type": "code",
   "execution_count": 66,
   "metadata": {},
   "outputs": [
    {
     "output_type": "stream",
     "name": "stdout",
     "text": "0      1      2     3     4     5     6     7     8     9     ...  \\\n753  130.3  131.3  129.3  80.3  43.3   4.3 -15.7 -33.7 -17.7 -20.7  ...   \n754  131.3  126.3  131.3  51.3  13.3 -21.7  -1.7 -26.7  -6.7 -24.7  ...   \n755  129.3  128.3  127.3  43.3  -6.7 -29.7  -1.7 -26.7 -25.7 -33.7  ...   \n756  129.3  131.3   75.3  49.3   0.3 -19.7 -23.7 -10.7 -41.7 -25.7  ...   \n757  130.3  128.3   46.3  -4.7 -25.7 -54.7 -52.7 -18.7 -35.7 -26.7  ...   \n\n      1014   1015   1016   1017   1018   1019   1020   1021   1022   1023  \n753  112.3  130.3  126.3  123.3  111.3  112.3  120.3  123.3  122.3  122.3  \n754  114.3  126.3  129.3  131.3  123.3  128.3  122.3  125.3  120.3  127.3  \n755  126.3  129.3  130.3  129.3  128.3  129.3  116.3  123.3  129.3  131.3  \n756  114.3  119.3  130.3  122.3  116.3  123.3  126.3  128.3  119.3  112.3  \n757  113.3  121.3  127.3  121.3  111.3  122.3  117.3  116.3  114.3  123.3  \n\n[5 rows x 1024 columns]\n          0           1           2          3          4          5     \\\n753  129.91060  131.300000  128.037800  89.253130  43.144240   3.369095   \n754  131.30000  129.280960  131.300000  54.373000  17.021439  -9.371872   \n755  129.61250  131.300000  120.261430  50.999220   0.363724 -24.585495   \n756  129.65938  131.300000   75.450880  52.873734  -0.607956 -13.804489   \n757  131.30000  125.786575   60.867386  17.879349 -26.465622 -47.379930   \n\n          6          7          8          9     ...       1014        1015  \\\n753 -16.934860 -27.887497 -16.090622 -29.738815  ...  118.86299  131.300000   \n754  -2.986862 -30.293015  -7.374802 -17.472458  ...  115.07686  127.237500   \n755  -6.007858 -32.110397 -22.370895 -33.949753  ...  123.28438  129.834920   \n756 -11.903854  -6.738815 -41.481247 -27.449997  ...  121.68355  124.455765   \n757 -47.734665  -8.682663 -38.824997 -24.460495  ...  120.66109  126.643750   \n\n          1016       1017       1018       1019        1020       1021  \\\n753  122.61250  126.86275  118.34248  117.02803  122.362500  124.66548   \n754  128.86470  130.61812  122.06563  126.00313  116.753130  121.94087   \n755  131.30000  130.86250  129.33125  130.19624  120.100296  126.51875   \n756  131.30000  127.12593  117.30000  122.02217  127.320020  123.05000   \n757  131.19527  123.33467  114.26875  123.98091  122.096880  121.97090   \n\n           1022       1023  \n753  122.300000  122.30000  \n754  119.977980  127.22188  \n755  128.675000  131.30000  \n756  124.482864  114.42134  \n757  119.623730  127.75313  \n\n[5 rows x 1024 columns]\n"
    }
   ],
   "source": [
    "print(dfpyR.tail())\n",
    "print(dfgoR.tail())"
   ]
  },
  {
   "cell_type": "code",
   "execution_count": 67,
   "metadata": {},
   "outputs": [
    {
     "output_type": "execute_result",
     "data": {
      "text/plain": "array([-69.7, -90.8, -74.9])"
     },
     "metadata": {},
     "execution_count": 67
    }
   ],
   "source": [
    "pyImg[0, 133, 0]"
   ]
  },
  {
   "cell_type": "code",
   "execution_count": 68,
   "metadata": {},
   "outputs": [
    {
     "output_type": "execute_result",
     "data": {
      "text/plain": "array([-68.025925, -90.93623 , -71.12998 ])"
     },
     "metadata": {},
     "execution_count": 68
    }
   ],
   "source": [
    "goImg[0, 133, 0]"
   ]
  },
  {
   "cell_type": "code",
   "execution_count": 69,
   "metadata": {},
   "outputs": [
    {
     "output_type": "execute_result",
     "data": {
      "text/plain": "-379873.48528524867"
     },
     "metadata": {},
     "execution_count": 69
    }
   ],
   "source": [
    "pyG = pyImg[0, 133:891, :, 1]\n",
    "goG = goImg[0, 133:891, :, 1]\n",
    "diffG = pyG - goG\n",
    "diffG.sum()"
   ]
  },
  {
   "cell_type": "code",
   "execution_count": 70,
   "metadata": {},
   "outputs": [
    {
     "output_type": "execute_result",
     "data": {
      "text/plain": "54.033939000000004"
     },
     "metadata": {},
     "execution_count": 70
    }
   ],
   "source": [
    "diffG.max()"
   ]
  },
  {
   "cell_type": "code",
   "execution_count": 71,
   "metadata": {},
   "outputs": [
    {
     "output_type": "execute_result",
     "data": {
      "text/plain": "(array([431]), array([393]))"
     },
     "metadata": {},
     "execution_count": 71
    }
   ],
   "source": [
    "np.where(diffG == diffG.max())"
   ]
  },
  {
   "cell_type": "code",
   "execution_count": 72,
   "metadata": {},
   "outputs": [
    {
     "output_type": "execute_result",
     "data": {
      "text/plain": "array([-7.55713 ,  1.650882,  7.02588 ])"
     },
     "metadata": {},
     "execution_count": 72
    }
   ],
   "source": [
    "diffImg[0, 15+133, 11+891]"
   ]
  },
  {
   "cell_type": "code",
   "execution_count": null,
   "metadata": {},
   "outputs": [],
   "source": []
  }
 ]
}